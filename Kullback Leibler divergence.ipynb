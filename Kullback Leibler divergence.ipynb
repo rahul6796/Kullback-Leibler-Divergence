{
 "cells": [
  {
   "cell_type": "markdown",
   "metadata": {},
   "source": [
    "# Kullback Leibler Divergence"
   ]
  },
  {
   "cell_type": "markdown",
   "metadata": {},
   "source": [
    "# Content"
   ]
  },
  {
   "cell_type": "markdown",
   "metadata": {},
   "source": [
    "$1$. Expectation"
   ]
  },
  {
   "cell_type": "markdown",
   "metadata": {},
   "source": [
    "$2$.Information Content (IC)."
   ]
  },
  {
   "cell_type": "markdown",
   "metadata": {},
   "source": [
    "$3$. Self Entropy."
   ]
  },
  {
   "cell_type": "markdown",
   "metadata": {},
   "source": [
    "$4$.Information Content for Number of Bit Transformation."
   ]
  },
  {
   "cell_type": "markdown",
   "metadata": {},
   "source": [
    "$5$.Cross Entropy."
   ]
  },
  {
   "cell_type": "markdown",
   "metadata": {},
   "source": [
    "$6$. KL-Divergence."
   ]
  },
  {
   "cell_type": "markdown",
   "metadata": {},
   "source": [
    "# 1 . Expectation"
   ]
  },
  {
   "cell_type": "markdown",
   "metadata": {},
   "source": [
    "let's take an example and try to understand this concept."
   ]
  },
  {
   "cell_type": "markdown",
   "metadata": {},
   "source": [
    "now we take four cricket teams which are given by ${A}$,${B}$,${C}$,${D}$ is a kinds of random variabels and due to there past data the winning probability associated with each four random varaibles is."
   ]
  },
  {
   "cell_type": "markdown",
   "metadata": {},
   "source": [
    "\\begin{equation}\n",
    "X = {A,B,C,D}\n",
    "\\end{equation}\n"
   ]
  },
  {
   "cell_type": "markdown",
   "metadata": {},
   "source": [
    "\\begin{equation}\n",
    "P(X) = [0.4,0.2,0.1,0.3]\n",
    "\\end{equation}"
   ]
  },
  {
   "cell_type": "markdown",
   "metadata": {},
   "source": [
    "there is illegal betting on given team and what price is providing by individual team is given below. which we can represented by ${G}$. stand for ${Gain}$."
   ]
  },
  {
   "cell_type": "markdown",
   "metadata": {},
   "source": [
    "\\begin{equation}\n",
    "G(X) = [10000 , 20000,-8000,5000]\n",
    "\\end{equation}"
   ]
  },
  {
   "cell_type": "markdown",
   "metadata": {},
   "source": [
    "so now expected profit is given by probability associated with random variabels and there corresponding ${Gain}$."
   ]
  },
  {
   "cell_type": "markdown",
   "metadata": {},
   "source": [
    "\\begin{equation}\n",
    "Exprected-profit(X) = (0.4\\cdot{10000} + 0.2\\cdot{20000} -0.1\\cdot{8000} + 0.3\\cdot{5000})\n",
    "\\end{equation}"
   ]
  },
  {
   "cell_type": "markdown",
   "metadata": {},
   "source": [
    "so now we can also Expected-Profit is written as."
   ]
  },
  {
   "cell_type": "markdown",
   "metadata": {},
   "source": [
    "\\begin{equation}\n",
    "{E}_{x}[P] = \\sum_{i={A,B,C,D}}P(X=i)\\cdot{G(X=i)}\n",
    "\\end{equation}"
   ]
  },
  {
   "cell_type": "markdown",
   "metadata": {},
   "source": [
    "# 2 .Information Content (IC)."
   ]
  },
  {
   "cell_type": "markdown",
   "metadata": {},
   "source": [
    "let's take an example and try to understand this concept."
   ]
  },
  {
   "cell_type": "markdown",
   "metadata": {},
   "source": [
    "suppose that the direction of sunrise is what, and we have some random variabels of direction. ${E}$,${W}$,${S}$,${N}$ and asked by some people then definetly we got the answer as probability is ${E}$ that is (1). so you can say that is  there no more information Content(gain) by this example."
   ]
  },
  {
   "cell_type": "markdown",
   "metadata": {},
   "source": [
    "let's some other example , suppose that today is strome, so after listen this we are getting surprised ohh today is strome that mean, the Information Content(gain) is More because on daily basis there in no strome."
   ]
  },
  {
   "cell_type": "markdown",
   "metadata": {},
   "source": [
    "so we can say that"
   ]
  },
  {
   "cell_type": "markdown",
   "metadata": {},
   "source": [
    "storme is a kind of random variabel."
   ]
  },
  {
   "cell_type": "markdown",
   "metadata": {},
   "source": [
    "\\begin{equation}\n",
    "IC(X=strome) \\propto {surprised}\n",
    "\\end{equation}"
   ]
  },
  {
   "cell_type": "markdown",
   "metadata": {},
   "source": [
    "And when we talk about the ${Probability}$ then if there is ${Surprised}$ event that mean they have lower probability."
   ]
  },
  {
   "cell_type": "markdown",
   "metadata": {},
   "source": [
    "\\begin{equation}\n",
    "IC(X=strome) \\propto \\frac{1}{P(X=strome)}\n",
    "\\end{equation}"
   ]
  },
  {
   "cell_type": "markdown",
   "metadata": {},
   "source": [
    "And lower ${Probability}$ that mean you gain more ${Information}$ by knowing about it."
   ]
  },
  {
   "cell_type": "markdown",
   "metadata": {},
   "source": [
    "so here ${IC}$ is function  of the ${Probability}$ of that event, but at this movement we cannot explain what is the function."
   ]
  },
  {
   "cell_type": "markdown",
   "metadata": {},
   "source": [
    "\\begin{equation}\n",
    "IC(P(X=strome))\n",
    "\\end{equation}"
   ]
  },
  {
   "cell_type": "markdown",
   "metadata": {},
   "source": [
    "let's take an another example to know more about the ${Information Content}$."
   ]
  },
  {
   "cell_type": "code",
   "execution_count": null,
   "metadata": {},
   "outputs": [],
   "source": []
  }
 ],
 "metadata": {
  "kernelspec": {
   "display_name": "Python 3",
   "language": "python",
   "name": "python3"
  },
  "language_info": {
   "codemirror_mode": {
    "name": "ipython",
    "version": 3
   },
   "file_extension": ".py",
   "mimetype": "text/x-python",
   "name": "python",
   "nbconvert_exporter": "python",
   "pygments_lexer": "ipython3",
   "version": "3.7.3"
  }
 },
 "nbformat": 4,
 "nbformat_minor": 2
}
